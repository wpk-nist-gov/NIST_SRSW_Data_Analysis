{
 "cells": [
  {
   "cell_type": "code",
   "execution_count": 141,
   "id": "24c31728",
   "metadata": {},
   "outputs": [],
   "source": [
    "%matplotlib inline\n",
    "import sys\n",
    "from pathlib import Path\n",
    "\n",
    "import pandas as pd\n",
    "import numpy as np\n",
    "\n",
    "import lnpy\n",
    "from lnpy.lnpicollectionutils import limited_collection\n"
   ]
  },
  {
   "cell_type": "code",
   "execution_count": 138,
   "id": "3d3e4eec",
   "metadata": {},
   "outputs": [],
   "source": [
    "def analyze_path(path):\n",
    "    \"\"\"Analyze path of form lj.t07...\"\"\"\n",
    "    system, temp, meta, volume, _, _, run, *ext = path.name.split('.')\n",
    "    \n",
    "    suffix =  \".\".join(ext)\n",
    "\n",
    "    return {\n",
    "        'path': path,\n",
    "        'system': f\"{system}-{meta}\",\n",
    "        'temp': float(f\"{temp[1]}.{temp[2:]}\"),\n",
    "        'volume': float(volume.lstrip('v')),\n",
    "        'run': int(run.lstrip('r')),\n",
    "        \"typ\": suffix.replace(\".\",\"_\"),\n",
    "        \n",
    "    }\n",
    "\n",
    "#function to tag 'LD' and 'HD' phases\n",
    "def tag_phases2(x):\n",
    "    \"\"\"tag vapor (0) and liquid (1)\"\"\"\n",
    "    if len(x) > 2:\n",
    "        raise ValueError('bad tag function')\n",
    "    argmax0 = np.array([xx.local_argmax()[0] for xx in x])\n",
    "    return np.where(argmax0 <= x[0].shape[0] / 2, 0, 1)\n",
    "\n",
    "def read_sat(path):\n",
    "    \"\"\"read sat data (needed to get lnz)\"\"\"\n",
    "    return (\n",
    "        pd.read_table(path, sep='\\s+')\n",
    "        .rename(columns=lambda x: (\n",
    "            x\n",
    "            .replace('*','')\n",
    "            .replace('(1)','_0')\n",
    "            .replace('(2)','_1')\n",
    "            .replace('lnxi','lnz')\n",
    "        ))\n",
    "        .iloc[0]    \n",
    "    )\n",
    "\n",
    "def read_table(path, name):\n",
    "    \"\"\"Arbitrary table read\"\"\"\n",
    "    return pd.read_table(path, sep='\\s+', header=None, names=['n', name]).astype({'n': int}).set_index('n')[name]"
   ]
  },
  {
   "cell_type": "code",
   "execution_count": 139,
   "id": "183385d3",
   "metadata": {},
   "outputs": [],
   "source": [
    "paths = Path(\"../data/NIST_SRSW_Data/LJ_PURE/LJ_3sigma_LRC_TMMC/\").glob('*')\n",
    "# filter out lj_rc3....\n",
    "paths = list(filter(lambda x: '_' not in x.name, paths))"
   ]
  },
  {
   "cell_type": "code",
   "execution_count": 142,
   "id": "98b5fbaf",
   "metadata": {},
   "outputs": [],
   "source": [
    "# create list of files\n",
    "df_list = pd.DataFrame(map(analyze_path, paths))\n",
    "\n",
    "# pivot\n",
    "df_p = df_list.pivot(columns=['typ'], index=['system','temp','volume','run'], values='path').reset_index()"
   ]
  },
  {
   "cell_type": "raw",
   "id": "7ca49123",
   "metadata": {},
   "source": [
    "def analyze_row(row):\n",
    "    nmax=2\n",
    "    state_kws = row[['temp','beta','volume','tail','rcut']].to_dict()\n",
    "    lnz, path, path_energy = row[['lnz','path','energy']]\n",
    "    \n",
    "    pe = pd.read_csv(path_energy, header=None, sep='\\s+', names=['n','e'])['e'].values\n",
    "\n",
    "    ref = lnPi.MaskedlnPiDelayed.from_table(path,\n",
    "                                     fill_value=np.nan, \n",
    "                                     lnz=lnz,\n",
    "                                     # state_kws needs to be defined if want to calculate some properties\n",
    "                                     # down the road\n",
    "                                     state_kws=state_kws, \n",
    "                                     # extra_kws is where you pass things which will be passed along to\n",
    "                                     # new lnPis, like potential energy\n",
    "                                     extra_kws={'PE':pe}).zeromax().pad()\n",
    "\n",
    "\n",
    "    phase_creator= lnPi.segment.PhaseCreator(nmax=2, nmax_peak=4, ref=ref, \n",
    "                                             merge_kws=dict(efac=0.8), \n",
    "                                             tag_phases=tag_phases2\n",
    "                                            )\n",
    "    build_phases = phase_creator.build_phases_mu([None])\n",
    "\n",
    "    # get collection\n",
    "    with lnPi.set_options(joblib_use=False):\n",
    "        c_course, c = lnPi.collectionlnpiutils.limited_collection(build_phases, dlnz=0.005, digits=3, \n",
    "                                                                  offsets=[-15, +15], \n",
    "                                                                  collection_kws=dict(unstack=False),\n",
    "                                                                  edge_distance_min=8, dens_min=1e-6)\n",
    "\n",
    "        \n",
    "        table = c.xge.table(['ntot','betaOmega','PE'], default_keys=[], mask_stable=True, ref=ref).to_dataframe()\n",
    "\n",
    "        # build spinodal/binodal\n",
    "        table_spin = None\n",
    "        table_bino = None\n",
    "        if nmax > 1:\n",
    "            L_spin = {}\n",
    "            first_spin = None\n",
    "            for efac in np.arange(1.0, 0.0, -0.2):\n",
    "                try:\n",
    "                    spin, _ = c_course.spinodal(2, build_phases, inplace=False, \n",
    "                                                as_dict=False, efac=efac, build_kws=dict(efac=efac * 0.5))\n",
    "                    L_spin[efac] = spin\n",
    "                    if first_spin is None:\n",
    "                        first_spin = spin\n",
    "                except:\n",
    "                    break        \n",
    "\n",
    "            if len(L_spin) > 0:\n",
    "                spins = lnPi.CollectionlnPi.concat(L_spin, concat_kws=dict(names=['efac']), unstack=False)\n",
    "\n",
    "                # calc this directly, as wlnPi has some oddities\n",
    "                wmin = spins.wlnPi.dw.droplevel('phase_nebr').pipe(lambda x: x.groupby(x.index.names)).min()\n",
    "\n",
    "                table_spin = (\n",
    "                    spins.xge.table(['ntot','betaOmega','PE'], default_keys=[], ref=ref)#, dim_to_suffix='component')\n",
    "                    .to_dataframe()\n",
    "                    .assign(dw=lambda x: wmin[x.index])\n",
    "                )\n",
    "\n",
    "            else:\n",
    "                pass\n",
    "\n",
    "            if table_spin is not None:\n",
    "                try:\n",
    "                    # grab first spinodal\n",
    "                    spin = first_spin\n",
    "                    bino, _ = c_course.binodal(2, build_phases, inplace=False, as_dict=False, spinodals=spin)\n",
    "                    table_bino = bino.xge.table(['ntot','betaOmega','PE'], default_keys=[], ref=ref).to_dataframe()\n",
    "                except:\n",
    "                    pass\n",
    "\n",
    "\n",
    "\n",
    "    return table, table_spin, table_bino\n",
    "    "
   ]
  },
  {
   "cell_type": "code",
   "execution_count": 335,
   "id": "6fb687b8",
   "metadata": {},
   "outputs": [],
   "source": [
    "def analyze_row(row):\n",
    "    \n",
    "    import lnpy.stability # noqa # fmt: off\n",
    "    \n",
    "    nmax=2\n",
    "    \n",
    "    energy = read_table(row.energy_dat, 'energy')\n",
    "    lnpi = read_table(row.new_lnpi_dat, 'lnPi')\n",
    "    energy = energy.loc[lnpi.index]\n",
    "    \n",
    "    \n",
    "    sat = read_sat(row['sat_dat'])\n",
    "    ref = lnpy.lnPiMasked.from_data(\n",
    "        lnz=sat['lnz'],\n",
    "        lnz_data=sat['lnz'],\n",
    "        data=lnpi.values,\n",
    "        state_kws={**row[['temp','volume','run','system']], 'beta': 1./row['temp']},\n",
    "        extra_kws={'PE': energy.values}\n",
    "    ).zeromax().pad()\n",
    "    \n",
    "    \n",
    "    phase_creator= lnpy.segment.PhaseCreator(nmax=2, nmax_peak=4, ref=ref, \n",
    "                                         merge_kws=dict(efac=0.8), \n",
    "                                         tag_phases=tag_phases2\n",
    "                                        )\n",
    "    build_phases = phase_creator.build_phases_mu([None])\n",
    "    \n",
    "    with lnpy.set_options(joblib_use=False):\n",
    "\n",
    "        c_course, c = limited_collection(\n",
    "            build_phases, dlnz=0.1, digits=3, \n",
    "            offsets=[-15, +15], \n",
    "            collection_kws=dict(unstack=False),\n",
    "            edge_distance_min=8, dens_min=1e-6\n",
    "        )\n",
    "\n",
    "\n",
    "        table = (\n",
    "            c.xge.table(['ntot','betaOmega','PE', 'edge_distance'], default_keys=[], mask_stable=True, ref=ref)\n",
    "            .reset_index('sample')\n",
    "            .to_dataframe()\n",
    "        )\n",
    "\n",
    "        # build spinodal/binodal\n",
    "        table_spin = None\n",
    "        table_bino = None\n",
    "        if nmax > 1:\n",
    "            L_spin = {}\n",
    "            first_spin = None\n",
    "            for efac in np.arange(1.0, 0.0, -0.2):\n",
    "                try:\n",
    "                    spin, _ = c_course.spinodal(2, build_phases, inplace=False, \n",
    "                                                as_dict=False, efac=efac, build_kws=dict(efac=efac * 0.5))\n",
    "                    L_spin[efac] = spin\n",
    "                    if first_spin is None:\n",
    "                        first_spin = spin\n",
    "                except:\n",
    "                    break        \n",
    "\n",
    "            if len(L_spin) > 0:\n",
    "                spins = lnpy.lnPiCollection.concat(L_spin, concat_kws=dict(names=['efac']), unstack=False)\n",
    "\n",
    "                # calc this directly, as wlnPi has some oddities\n",
    "                wmin = spins.wfe.dw.droplevel('phase_nebr').pipe(lambda x: x.groupby(x.index.names)).min()\n",
    "\n",
    "                \n",
    "                table_spin = (\n",
    "                    spins.xge.table(['ntot','betaOmega','PE', 'edge_distance'], default_keys=[], ref=ref)#, dim_to_suffix='component')\n",
    "                    .assign(dw=lambda x: ('sample', wmin.loc[x['sample']]))\n",
    "                    .reset_index('sample')\n",
    "                    .to_dataframe()\n",
    "                )\n",
    "\n",
    "            else:\n",
    "                pass\n",
    "\n",
    "            if table_spin is not None:\n",
    "                try:\n",
    "                    # grab first spinodal\n",
    "                    spin = first_spin\n",
    "                    bino, _ = c_course.binodal(2, build_phases, inplace=False, as_dict=False, spinodals=spin)\n",
    "                    table_bino = (\n",
    "                        bino.xge.table(['ntot','betaOmega','PE','edge_distance'], default_keys=[], ref=ref)\n",
    "                        .reset_index('sample')\n",
    "                        .to_dataframe()\n",
    "                    )\n",
    "                except:\n",
    "                    pass\n",
    "                \n",
    "    \n",
    "    sat =   sat.to_frame().transpose().assign(**row[['temp','volume','run','system']])\n",
    "\n",
    "    \n",
    "    return sat, table, table_spin, table_bino\n",
    "                \n"
   ]
  },
  {
   "cell_type": "markdown",
   "id": "b18f3e15",
   "metadata": {},
   "source": [
    "## get data"
   ]
  },
  {
   "cell_type": "code",
   "execution_count": 336,
   "id": "6c4ff42a",
   "metadata": {},
   "outputs": [],
   "source": [
    "from tqdm.notebook import tqdm \n",
    "from joblib import Parallel, delayed"
   ]
  },
  {
   "cell_type": "raw",
   "id": "9d4a6229",
   "metadata": {},
   "source": [
    "# test\n",
    "row = df_p.iloc[0]\n",
    "out = analyze_row(row)"
   ]
  },
  {
   "cell_type": "code",
   "execution_count": 354,
   "id": "60393c9c",
   "metadata": {},
   "outputs": [
    {
     "data": {
      "application/vnd.jupyter.widget-view+json": {
       "model_id": "103e3f8a1d1048e1802552f67bac4f32",
       "version_major": 2,
       "version_minor": 0
      },
      "text/plain": [
       "  0%|          | 0/2004 [00:00<?, ?it/s]"
      ]
     },
     "metadata": {},
     "output_type": "display_data"
    }
   ],
   "source": [
    "seq = tqdm(df_p.iterrows(), total=len(df_p))\n",
    "\n",
    "L = Parallel(n_jobs=-1)(delayed(analyze_row)(row) for i, row in seq)"
   ]
  },
  {
   "cell_type": "code",
   "execution_count": 355,
   "id": "63df8155",
   "metadata": {},
   "outputs": [],
   "source": [
    "Ls = {k : [] for k in ['sat','table','spin','bino']}\n",
    "for sat, table, spin, bino in L:\n",
    "    Ls['sat'].append(sat)\n",
    "    Ls['table'].append(table)\n",
    "    if spin is not None:\n",
    "        Ls['spin'].append(spin)\n",
    "    if bino is not None:\n",
    "        Ls['bino'].append(bino)"
   ]
  },
  {
   "cell_type": "code",
   "execution_count": 560,
   "id": "c34419a2",
   "metadata": {},
   "outputs": [],
   "source": [
    "dfs = {k: pd.concat(v, ignore_index=True) for k, v in Ls.items()}"
   ]
  },
  {
   "cell_type": "code",
   "execution_count": 562,
   "id": "3f36a4eb",
   "metadata": {},
   "outputs": [],
   "source": [
    "# only select one spinodal\n",
    "dfs['spin'] = dfs['spin'].query('efac==1.0')"
   ]
  },
  {
   "cell_type": "code",
   "execution_count": 563,
   "id": "01cfbde8",
   "metadata": {},
   "outputs": [],
   "source": [
    "# save raw data\n",
    "p = Path('../data/NIST_SRSW_Data/LJ_PURE/LJ_3sigma_LRC_TMMC/'.replace('NIST_SRSW_Data','processed'))\n",
    "p.mkdir(parents=True, exist_ok=True)"
   ]
  },
  {
   "cell_type": "markdown",
   "id": "0c11979c",
   "metadata": {},
   "source": [
    "## save all (spin and bino)"
   ]
  },
  {
   "cell_type": "code",
   "execution_count": 582,
   "id": "cae46e3d",
   "metadata": {},
   "outputs": [],
   "source": [
    "for x in ['spin','bino']:\n",
    "    dfs[x].to_csv(p / f\"{x}-all.csv\", index=False)"
   ]
  },
  {
   "cell_type": "markdown",
   "id": "e075a074",
   "metadata": {},
   "source": [
    "## Average files"
   ]
  },
  {
   "cell_type": "code",
   "execution_count": 568,
   "id": "827c5d83",
   "metadata": {},
   "outputs": [
    {
     "data": {
      "text/plain": [
       "<module 'tools.pandas_utils' from '/Users/wpk/Documents/Research/CurrentResearch/Projects/NIST_SRSW_Data_Analysis/notebooks/tools/pandas_utils.py'>"
      ]
     },
     "execution_count": 568,
     "metadata": {},
     "output_type": "execute_result"
    }
   ],
   "source": [
    "import tools.pandas_utils\n",
    "from importlib import reload\n",
    "reload(tools.pandas_utils)"
   ]
  },
  {
   "cell_type": "code",
   "execution_count": 569,
   "id": "94b1c1ee",
   "metadata": {},
   "outputs": [],
   "source": [
    "def assign_values(df):\n",
    "    return (\n",
    "        df\n",
    "        .eval(\n",
    "            \"\"\"\n",
    "            dens = ntot / volume\n",
    "            pres = -betaOmega * dens / beta\n",
    "            pe_n = PE / ntot\n",
    "            \"\"\"\n",
    "        )\n",
    "    )\n",
    "\n",
    "def get_stats(df, gcol):\n",
    "    out = tools.pandas_utils.stats_agg_dataframe(df.drop('run', axis=1).pipe(assign_values), gcol=gcol, collapse=False, swaplevel=False, conf=None, drop_std=False)\n",
    "    return (\n",
    "        out['mean'].dropna(how='all'),\n",
    "        out['std'].dropna(how='all')\n",
    "    )\n",
    "\n"
   ]
  },
  {
   "cell_type": "code",
   "execution_count": 570,
   "id": "095e6389",
   "metadata": {},
   "outputs": [],
   "source": [
    "# stats\n",
    "dfs_stats = {}\n",
    "group_cols = ['lnz_0','phase','temp','beta','volume','system']\n",
    "dfs_stats['table'], dfs_stats['table_stderr'] = get_stats(dfs['table'], gcol=group_cols)\n",
    "\n",
    "# spinodal/binodal\n",
    "# here we need to drop lnz\n",
    "group_cols_stab = group_cols[1:]\n",
    "dfs_stats['spin'], dfs_stats['spin_stderr'] = get_stats(dfs['spin'],\n",
    "                                             gcol=group_cols_stab + ['spinodal','efac'])\n",
    "\n",
    "dfs_stats['bino'], dfs_stats['bino_stderr'] = get_stats(dfs['bino'],\n",
    "                                             gcol=group_cols_stab + ['binodal'])"
   ]
  },
  {
   "cell_type": "code",
   "execution_count": 588,
   "id": "382fc1e8",
   "metadata": {},
   "outputs": [],
   "source": [
    "p = Path('../data/NIST_SRSW_Data/LJ_PURE/LJ_3sigma_LRC_TMMC/'.replace('NIST_SRSW_Data','processed'))\n",
    "p.mkdir(parents=True, exist_ok=True)\n",
    "\n",
    "for x in ['spin','bino']:\n",
    "    (\n",
    "        pd.merge(dfs_stats[x], dfs_stats[x], \n",
    "                 left_index=True, right_index=True, suffixes=['','_stderr'])\n",
    "        .reset_index()\n",
    "        .to_csv(p / f'{x}-ave.csv', index=False)\n",
    "    )\n"
   ]
  }
 ],
 "metadata": {
  "kernelspec": {
   "display_name": "Python [conda env:.conda-nist-srsw-data-analysis]",
   "language": "python",
   "name": "conda-env-.conda-nist-srsw-data-analysis-py"
  },
  "language_info": {
   "codemirror_mode": {
    "name": "ipython",
    "version": 3
   },
   "file_extension": ".py",
   "mimetype": "text/x-python",
   "name": "python",
   "nbconvert_exporter": "python",
   "pygments_lexer": "ipython3",
   "version": "3.11.3"
  },
  "toc": {
   "base_numbering": 1,
   "nav_menu": {},
   "number_sections": true,
   "sideBar": true,
   "skip_h1_title": false,
   "title_cell": "Table of Contents",
   "title_sidebar": "Contents",
   "toc_cell": false,
   "toc_position": {},
   "toc_section_display": true,
   "toc_window_display": false
  }
 },
 "nbformat": 4,
 "nbformat_minor": 5
}
